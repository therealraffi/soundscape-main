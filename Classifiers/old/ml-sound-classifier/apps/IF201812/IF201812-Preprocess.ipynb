{
 "cells": [
  {
   "cell_type": "markdown",
   "metadata": {},
   "source": [
    "# Interface 2018/12 Snack sound classification\n",
    "\n",
    "Classification task of 6 snack bag shaking sounds.\n",
    "\n",
    "https://shop.cqpub.co.jp/hanbai/books/MIF/MIF201812.html\n",
    "\n",
    "This notebook download, convert and preprocess dataset."
   ]
  },
  {
   "cell_type": "code",
   "execution_count": 1,
   "metadata": {},
   "outputs": [
    {
     "name": "stdout",
     "output_type": "stream",
     "text": [
      "{'sampling_rate': 44100, 'duration': 2, 'hop_length': 694, 'fmin': 20, 'fmax': 22050, 'n_mels': 128, 'n_fft': 2560, 'model': 'mobilenetv2', 'labels': ['babystar', 'bbq', 'corn', 'kappaebi', 'potechi', 'vegetable'], 'folder': PosixPath('.'), 'n_fold': 1, 'valid_limit': None, 'random_state': 42, 'test_size': 0.2, 'samples_per_file': 1, 'batch_size': 32, 'learning_rate': 0.0001, 'metric_save_ckpt': 'val_acc', 'epochs': 100, 'verbose': 2, 'best_weight_file': 'best_model_weight.h5', 'rt_process_count': 1, 'rt_oversamples': 10, 'pred_ensembles': 10, 'runtime_model_file': None, 'label2int': {'babystar': 0, 'bbq': 1, 'corn': 2, 'kappaebi': 3, 'potechi': 4, 'vegetable': 5}, 'num_classes': 6, 'samples': 88200, 'rt_chunk_samples': 4410, 'mels_onestep_samples': 4410, 'mels_convert_samples': 92610, 'dims': [128, 128, 1], 'metric_save_mode': 'auto', 'logdir': 'logs', 'data_balancing': 'over_sampling', 'X_train': 'X_train.npy', 'y_train': 'y_train.npy', 'X_test': 'X_test.npy', 'y_test': 'y_test.npy', 'steps_per_epoch_limit': None, 'aug_mixup_alpha': 1.0, 'eval_ensemble': True, 'what_is_sample': 'log mel-spectrogram', 'use_audio_training_model': True}\n"
     ]
    },
    {
     "name": "stderr",
     "output_type": "stream",
     "text": [
      "Using TensorFlow backend.\n"
     ]
    }
   ],
   "source": [
    "import sys\n",
    "sys.path.append('../..')\n",
    "from lib_train import *\n",
    "%matplotlib inline\n",
    "\n",
    "DATAROOT = Path('Snack/data')"
   ]
  },
  {
   "cell_type": "markdown",
   "metadata": {},
   "source": [
    "## Prepare dataset"
   ]
  },
  {
   "cell_type": "code",
   "execution_count": 7,
   "metadata": {},
   "outputs": [
    {
     "name": "stdout",
     "output_type": "stream",
     "text": [
      "--2018-10-30 14:44:06--  http://www.cqpub.co.jp/interface/download/2018/12/Snack-data.zip\n",
      "Resolving www.cqpub.co.jp (www.cqpub.co.jp)... 219.101.148.16\n",
      "Connecting to www.cqpub.co.jp (www.cqpub.co.jp)|219.101.148.16|:80... connected.\n",
      "HTTP request sent, awaiting response... 200 OK\n",
      "Length: 1008569782 (962M) [application/x-zip-compressed]\n",
      "Saving to: ‘Snack-data.zip’\n",
      "\n",
      "Snack-data.zip      100%[===================>] 961.85M  9.36MB/s    in 1m 46s  \n",
      "\n",
      "2018-10-30 14:45:52 (9.08 MB/s) - ‘Snack-data.zip’ saved [1008569782/1008569782]\n",
      "\n"
     ]
    }
   ],
   "source": [
    "! wget http://www.cqpub.co.jp/interface/download/2018/12/Snack-data.zip"
   ]
  },
  {
   "cell_type": "code",
   "execution_count": 8,
   "metadata": {},
   "outputs": [
    {
     "name": "stdout",
     "output_type": "stream",
     "text": [
      "Listing sub folders:\n",
      "jack  laptop  smartphone  usb  voicerecorder\n",
      "Listing some of files:\n",
      "babystar_B_1_0000.wav\n",
      "babystar_B_1_0001.wav\n",
      "babystar_B_1_0002.wav\n",
      "babystar_B_1_0003.wav\n",
      "babystar_B_1_0004.wav\n",
      "babystar_B_1_0005.wav\n",
      "babystar_B_1_0006.wav\n",
      "babystar_B_1_0007.wav\n",
      "babystar_B_1_0008.wav\n",
      "babystar_B_1_0009.wav\n",
      "ls: write error: Broken pipe\n"
     ]
    }
   ],
   "source": [
    "! unzip -q Snack-data.zip\n",
    "! rm Snack-data.zip\n",
    "! echo Listing sub folders:\n",
    "! ls Snack/data\n",
    "! echo Listing some of files:\n",
    "! ls Snack/data/jack | head"
   ]
  },
  {
   "cell_type": "code",
   "execution_count": 2,
   "metadata": {},
   "outputs": [
    {
     "name": "stdout",
     "output_type": "stream",
     "text": [
      "Classes ['babystar', 'bbq', 'corn', 'kappaebi', 'potechi', 'vegetable']\n"
     ]
    }
   ],
   "source": [
    "files = list(DATAROOT.glob('*/*[0-9].wav'))\n",
    "X_files = [str(f) for f in files]\n",
    "y_labels = [str(f.name).split('_')[0] for f in files]\n",
    "print('Classes', sorted(list(set(y_labels))))\n",
    "y = [conf.label2int[y] for y in y_labels]"
   ]
  },
  {
   "cell_type": "code",
   "execution_count": 3,
   "metadata": {},
   "outputs": [
    {
     "data": {
      "text/plain": [
       "((4799, 128, 128, 1), (4799,))"
      ]
     },
     "execution_count": 3,
     "metadata": {},
     "output_type": "execute_result"
    }
   ],
   "source": [
    "# Train\n",
    "train_files = sorted([f for f in files if f.stem[-6] in '1'])\n",
    "y_labels = [str(f.name).split('_')[0] for f in train_files]\n",
    "y_train = [conf.label2int[y] for y in y_labels]\n",
    "XX = mels_build_multiplexed_X(conf, train_files)\n",
    "X_train, y_train = mels_demux_XX_y(XX, y_train)\n",
    "np.save('X_train.npy', X_train)\n",
    "np.save('y_train.npy', y_train)\n",
    "X_train.shape, y_train.shape"
   ]
  },
  {
   "cell_type": "code",
   "execution_count": 4,
   "metadata": {},
   "outputs": [
    {
     "data": {
      "text/plain": [
       "((1206, 128, 128, 1), (1206,))"
      ]
     },
     "execution_count": 4,
     "metadata": {},
     "output_type": "execute_result"
    }
   ],
   "source": [
    "# Valid\n",
    "valid_files = sorted([f for f in files if f.stem[-6] in '2'])\n",
    "y_labels = [str(f.name).split('_')[0] for f in valid_files]\n",
    "y_valid = [conf.label2int[y] for y in y_labels]\n",
    "\n",
    "XX = mels_build_multiplexed_X(conf, valid_files)\n",
    "X_valid, y_valid = mels_demux_XX_y(XX, y_valid)\n",
    "np.save('X_valid.npy', X_valid)\n",
    "np.save('y_valid.npy', y_valid)\n",
    "X_valid.shape, y_valid.shape"
   ]
  },
  {
   "cell_type": "code",
   "execution_count": 5,
   "metadata": {},
   "outputs": [
    {
     "data": {
      "text/plain": [
       "['jack', 'jack', 'jack', 'jack', 'jack']"
      ]
     },
     "execution_count": 5,
     "metadata": {},
     "output_type": "execute_result"
    }
   ],
   "source": [
    "# Valid - list of mic for each samples\n",
    "mic_valid = [str(f.parent.name) for f in valid_files]\n",
    "np.save('mic_valid.npy', mic_valid)\n",
    "mic_valid[:5]"
   ]
  },
  {
   "cell_type": "code",
   "execution_count": null,
   "metadata": {
    "collapsed": true
   },
   "outputs": [],
   "source": []
  }
 ],
 "metadata": {
  "kernelspec": {
   "display_name": "Python 3",
   "language": "python",
   "name": "python3"
  },
  "language_info": {
   "codemirror_mode": {
    "name": "ipython",
    "version": 3
   },
   "file_extension": ".py",
   "mimetype": "text/x-python",
   "name": "python",
   "nbconvert_exporter": "python",
   "pygments_lexer": "ipython3",
   "version": "3.6.2"
  }
 },
 "nbformat": 4,
 "nbformat_minor": 2
}
